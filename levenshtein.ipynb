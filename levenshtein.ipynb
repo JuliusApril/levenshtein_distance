{
 "cells": [
  {
   "cell_type": "markdown",
   "id": "alone-factor",
   "metadata": {},
   "source": [
    "# Starmind assesment: Finding names with Levenshtein distance = 1\n",
    "\n",
    "Solution to task proposed for Starmind on their data scientist job oppening.\n",
    "\n",
    "The objective is to obtain from a dataset with a list of dogs names all names that have a Levenshtein distance of 1 to \"Luca\".\n",
    "\n",
    "Levenshtein distance is a measure of the similarity between two words. It can be calculated as the minimum number of single-character edits (including substitutions, insertions, and deletions) required to turn one word into the other.\n",
    "\n"
   ]
  },
  {
   "cell_type": "code",
   "execution_count": 1,
   "id": "faced-embassy",
   "metadata": {},
   "outputs": [],
   "source": [
    "## Libraries\n",
    "##-------------------------------------------\n",
    "\n",
    "## Data wrangling\n",
    "##-------------------------------------------\n",
    "import numpy as np\n",
    "import pandas as pd\n",
    "\n",
    "## Python library for Levenshtein Distance\n",
    "##-------------------------------------------\n",
    "from Levenshtein import distance as lev\n"
   ]
  },
  {
   "cell_type": "code",
   "execution_count": 18,
   "id": "crazy-market",
   "metadata": {},
   "outputs": [],
   "source": [
    "# Url\n",
    "FILE = 'https://data.stadt-zuerich.ch/dataset/sid_stapo_hundenamen/download/20210103_hundenamen.csv'\n",
    "\n",
    "# Loading dataset\n",
    "dogs = pd.read_csv(FILE)"
   ]
  },
  {
   "cell_type": "code",
   "execution_count": 19,
   "id": "weighted-refrigerator",
   "metadata": {},
   "outputs": [
    {
     "name": "stdout",
     "output_type": "stream",
     "text": [
      "<class 'pandas.core.frame.DataFrame'>\n",
      "RangeIndex: 8574 entries, 0 to 8573\n",
      "Data columns (total 3 columns):\n",
      " #   Column            Non-Null Count  Dtype \n",
      "---  ------            --------------  ----- \n",
      " 0   HUNDENAME         8574 non-null   object\n",
      " 1   GEBURTSJAHR_HUND  8574 non-null   int64 \n",
      " 2   GESCHLECHT_HUND   8574 non-null   object\n",
      "dtypes: int64(1), object(2)\n",
      "memory usage: 201.1+ KB\n"
     ]
    }
   ],
   "source": [
    "dogs.info()"
   ]
  },
  {
   "cell_type": "code",
   "execution_count": 20,
   "id": "knowing-seafood",
   "metadata": {},
   "outputs": [
    {
     "data": {
      "text/html": [
       "<div>\n",
       "<style scoped>\n",
       "    .dataframe tbody tr th:only-of-type {\n",
       "        vertical-align: middle;\n",
       "    }\n",
       "\n",
       "    .dataframe tbody tr th {\n",
       "        vertical-align: top;\n",
       "    }\n",
       "\n",
       "    .dataframe thead th {\n",
       "        text-align: right;\n",
       "    }\n",
       "</style>\n",
       "<table border=\"1\" class=\"dataframe\">\n",
       "  <thead>\n",
       "    <tr style=\"text-align: right;\">\n",
       "      <th></th>\n",
       "      <th>HUNDENAME</th>\n",
       "      <th>GEBURTSJAHR_HUND</th>\n",
       "      <th>GESCHLECHT_HUND</th>\n",
       "    </tr>\n",
       "  </thead>\n",
       "  <tbody>\n",
       "    <tr>\n",
       "      <th>0</th>\n",
       "      <td>Ituma</td>\n",
       "      <td>2011</td>\n",
       "      <td>w</td>\n",
       "    </tr>\n",
       "    <tr>\n",
       "      <th>1</th>\n",
       "      <td>\"Bo\" Bendy of Treegarden</td>\n",
       "      <td>2020</td>\n",
       "      <td>m</td>\n",
       "    </tr>\n",
       "    <tr>\n",
       "      <th>2</th>\n",
       "      <td>\"Bobby\" Lord Sinclair</td>\n",
       "      <td>2009</td>\n",
       "      <td>m</td>\n",
       "    </tr>\n",
       "    <tr>\n",
       "      <th>3</th>\n",
       "      <td>\"Buddy\" Fortheringhay's J.</td>\n",
       "      <td>2011</td>\n",
       "      <td>m</td>\n",
       "    </tr>\n",
       "    <tr>\n",
       "      <th>4</th>\n",
       "      <td>\"Fly\" Showring i fly for you</td>\n",
       "      <td>2015</td>\n",
       "      <td>w</td>\n",
       "    </tr>\n",
       "  </tbody>\n",
       "</table>\n",
       "</div>"
      ],
      "text/plain": [
       "                      HUNDENAME  GEBURTSJAHR_HUND GESCHLECHT_HUND\n",
       "0                         Ituma              2011               w\n",
       "1      \"Bo\" Bendy of Treegarden              2020               m\n",
       "2         \"Bobby\" Lord Sinclair              2009               m\n",
       "3    \"Buddy\" Fortheringhay's J.              2011               m\n",
       "4  \"Fly\" Showring i fly for you              2015               w"
      ]
     },
     "execution_count": 20,
     "metadata": {},
     "output_type": "execute_result"
    }
   ],
   "source": [
    "dogs.head()"
   ]
  },
  {
   "cell_type": "code",
   "execution_count": 21,
   "id": "convinced-villa",
   "metadata": {},
   "outputs": [],
   "source": [
    "# New column LEVENSHTEIN stands for levenshtein distance between name and Luca \n",
    "dogs['LEVENSHTEIN'] = dogs.HUNDENAME.apply(lambda x: lev(x,'Luca'))"
   ]
  },
  {
   "cell_type": "code",
   "execution_count": 22,
   "id": "knowing-atlanta",
   "metadata": {},
   "outputs": [
    {
     "data": {
      "text/plain": [
       "Luna     92\n",
       "Lucy     21\n",
       "Lua       6\n",
       "Lupa      5\n",
       "Luce      3\n",
       "Luma      2\n",
       "Lula      2\n",
       "Yuca      1\n",
       "Cuca      1\n",
       "Lucia     1\n",
       "Lucas     1\n",
       "Luba      1\n",
       "Name: HUNDENAME, dtype: int64"
      ]
     },
     "execution_count": 22,
     "metadata": {},
     "output_type": "execute_result"
    }
   ],
   "source": [
    "# Summarizing names with LEVENSHTEIN == 1\n",
    "dogs[dogs.LEVENSHTEIN == 1].HUNDENAME.value_counts()"
   ]
  },
  {
   "cell_type": "code",
   "execution_count": null,
   "id": "electrical-blond",
   "metadata": {},
   "outputs": [],
   "source": []
  }
 ],
 "metadata": {
  "kernelspec": {
   "display_name": "Python 3",
   "language": "python",
   "name": "python3"
  },
  "language_info": {
   "codemirror_mode": {
    "name": "ipython",
    "version": 3
   },
   "file_extension": ".py",
   "mimetype": "text/x-python",
   "name": "python",
   "nbconvert_exporter": "python",
   "pygments_lexer": "ipython3",
   "version": "3.8.5"
  }
 },
 "nbformat": 4,
 "nbformat_minor": 5
}
